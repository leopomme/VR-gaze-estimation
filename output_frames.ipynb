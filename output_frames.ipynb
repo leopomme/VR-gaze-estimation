{
 "cells": [
  {
   "cell_type": "code",
   "execution_count": 26,
   "metadata": {},
   "outputs": [],
   "source": [
    "import numpy as np\n",
    "from skimage.color import rgb2gray\n",
    "import cv2\n",
    "import os\n",
    "import pandas as pd\n",
    "\n",
    "from tqdm import tqdm\n",
    "\n",
    "from matplotlib import pyplot as plt\n",
    "from matplotlib.image import imread\n",
    "from matplotlib.patches import Circle\n",
    "%matplotlib inline\n",
    "\n",
    "from scipy.ndimage import gaussian_filter\n",
    "from scipy.ndimage import convolve\n",
    "from skimage.transform import resize\n",
    "from skimage.morphology import *\n",
    "from skimage.feature import blob_doh\n",
    "from skimage.transform import hough_circle\n",
    "from skimage.feature import canny"
   ]
  },
  {
   "cell_type": "code",
   "execution_count": 27,
   "metadata": {},
   "outputs": [],
   "source": [
    "def mask_image(gray, threshold):\n",
    "    mask = gray > threshold\n",
    "    return mask"
   ]
  },
  {
   "cell_type": "code",
   "execution_count": 28,
   "metadata": {},
   "outputs": [],
   "source": [
    "def dilated_image(image, rep):\n",
    "  dilated = dilation(image)\n",
    "  for i in range(rep-1):\n",
    "    dilated=dilation(dilated)\n",
    "  return dilated"
   ]
  },
  {
   "cell_type": "code",
   "execution_count": 29,
   "metadata": {},
   "outputs": [],
   "source": [
    "def NewdisplayCircles(image, coor, filename):\n",
    "    h = image.shape[0]\n",
    "    w = image.shape[1]\n",
    "    # Create a figure and axis\n",
    "    fig, ax = plt.subplots()\n",
    "    # Read in an image and display it on the axis\n",
    "    ax.imshow(image)\n",
    "    # Create a circle patch with the desired coordinates and radius\n",
    "    circleCoordinates = np.argwhere(coor)\n",
    "    circleCoordinates = np.mean(circleCoordinates, axis=0)\n",
    "    if len(circleCoordinates)==0:\n",
    "        circleCoordinates=[[30,h/2,w/2]]\n",
    "    r,y,x = circleCoordinates\n",
    "    circle = Circle((x,y), r, color='red', fill=False)\n",
    "    # Add the circle patch to the axis\n",
    "    ax.add_patch(circle)\n",
    "    # Save the figure\n",
    "    plt.savefig(filename)\n",
    "    # close the figure\n",
    "    plt.close(fig)\n",
    "    # read the saved file and return the image\n",
    "    return plt.imread(filename)"
   ]
  },
  {
   "cell_type": "code",
   "execution_count": 30,
   "metadata": {},
   "outputs": [],
   "source": [
    "def displayBlob(image, blob, filename):\n",
    "    h = image.shape[0]\n",
    "    w = image.shape[1]\n",
    "    # Create a figure and axis\n",
    "    fig, ax = plt.subplots()\n",
    "    # Read in an image and display it on the axis\n",
    "    ax.imshow(image)\n",
    "    if len(blob)==0:\n",
    "        blob=[[h/2,w/2,30]]\n",
    "    blob = np.mean(blob, axis=0)\n",
    "    y, x, r = blob\n",
    "    c = plt.Circle((x, y), r, color='red', linewidth=2, fill=False)\n",
    "    ax.add_patch(c)\n",
    "    # Save the figure\n",
    "    plt.savefig(filename)\n",
    "    # close the figure\n",
    "    plt.close(fig)\n",
    "    # read the saved file and return the image\n",
    "    return plt.imread(filename)"
   ]
  },
  {
   "cell_type": "code",
   "execution_count": 31,
   "metadata": {},
   "outputs": [],
   "source": [
    "image_path = '2_000/'\n",
    "files = os.listdir(image_path)\n",
    "num_files = len(files)"
   ]
  },
  {
   "cell_type": "code",
   "execution_count": 32,
   "metadata": {},
   "outputs": [
    {
     "name": "stdout",
     "output_type": "stream",
     "text": [
      "212\n",
      "212\n"
     ]
    }
   ],
   "source": [
    "image = []\n",
    "gray = []\n",
    "list_of_names = []\n",
    "for i in files:\n",
    "    list_of_names.append(i)\n",
    "list_of_names.sort()\n",
    "for i in range(len(list_of_names)):\n",
    "    image.append(imread(image_path+list_of_names[i]))\n",
    "    gray.append(rgb2gray(image[i]))\n",
    "print(len(image))\n",
    "print(len(gray))"
   ]
  },
  {
   "cell_type": "code",
   "execution_count": 33,
   "metadata": {},
   "outputs": [
    {
     "name": "stderr",
     "output_type": "stream",
     "text": [
      "100%|██████████| 212/212 [05:39<00:00,  1.60s/it]\n"
     ]
    }
   ],
   "source": [
    "mask = []\n",
    "mask_blob = []\n",
    "dilated_mask = []\n",
    "dilated_mask_edge = []\n",
    "my_dilated_mask_edge = []\n",
    "my_coor_edge_dilated_mask = []\n",
    "coor_edge_dilated_mask = []\n",
    "disp_mask_blob = []\n",
    "disp_edge_dilated_mask = []\n",
    "my_disp_edge_dilated_mask = []\n",
    "coor_blob = []\n",
    "coor_circles = []\n",
    "my_coor_circles = []\n",
    "\n",
    "\n",
    "for i in tqdm(range(len(gray))):\n",
    "\n",
    "    mask.append(mask_image(gray[i],0.2))\n",
    "    dilated_mask.append(dilated_image(mask[i], 5))\n",
    "    dilated_mask_edge.append(canny(dilated_mask[i], sigma=3, low_threshold=0.2, high_threshold=0.4).astype(np.uint8))\n",
    "    coor_edge_dilated_mask.append(hough_circle(dilated_mask_edge[i], np.arange(15, 80)))\n",
    "    disp_edge_dilated_mask.append(NewdisplayCircles(image[i], coor_edge_dilated_mask[i], \"my_blob/22/1/circle_{}.png\".format(i)))\n",
    "\n",
    "    mask_blob.append(blob_doh(mask[i], max_sigma=75, min_sigma=36, threshold=.05))\n",
    "    disp_mask_blob.append(displayBlob(image[i], mask_blob[i], \"my_blob/22/1/blob_{}.png\".format(i)))\n"
   ]
  }
 ],
 "metadata": {
  "kernelspec": {
   "display_name": "Python 3",
   "language": "python",
   "name": "python3"
  },
  "language_info": {
   "codemirror_mode": {
    "name": "ipython",
    "version": 3
   },
   "file_extension": ".py",
   "mimetype": "text/x-python",
   "name": "python",
   "nbconvert_exporter": "python",
   "pygments_lexer": "ipython3",
   "version": "3.8.5 (v3.8.5:580fbb018f, Jul 20 2020, 12:11:27) \n[Clang 6.0 (clang-600.0.57)]"
  },
  "orig_nbformat": 4,
  "vscode": {
   "interpreter": {
    "hash": "aee8b7b246df8f9039afb4144a1f6fd8d2ca17a180786b69acc140d282b71a49"
   }
  }
 },
 "nbformat": 4,
 "nbformat_minor": 2
}

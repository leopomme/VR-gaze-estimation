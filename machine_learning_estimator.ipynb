{
 "cells": [
  {
   "attachments": {},
   "cell_type": "markdown",
   "metadata": {},
   "source": [
    "# Machine learning"
   ]
  },
  {
   "cell_type": "code",
   "execution_count": 1,
   "metadata": {},
   "outputs": [],
   "source": [
    "import numpy as np\n",
    "from skimage.color import rgb2gray\n",
    "import cv2\n",
    "import os\n",
    "import pandas as pd\n",
    "\n",
    "from tqdm import tqdm\n",
    "\n",
    "from matplotlib import pyplot as plt\n",
    "from matplotlib.image import imread\n",
    "from matplotlib.patches import Circle\n",
    "%matplotlib inline\n",
    "\n",
    "from scipy.ndimage import gaussian_filter\n",
    "from scipy.ndimage import convolve\n",
    "from skimage.transform import resize\n",
    "from skimage.morphology import *\n",
    "from skimage.feature import blob_doh\n",
    "from skimage.transform import hough_circle\n",
    "from skimage.feature import canny"
   ]
  },
  {
   "attachments": {},
   "cell_type": "markdown",
   "metadata": {},
   "source": [
    "below are the same fucntions than the main_project notebook, but doesnt output the images, only the coordinates to be processed."
   ]
  },
  {
   "cell_type": "code",
   "execution_count": 2,
   "metadata": {},
   "outputs": [],
   "source": [
    "def mask_image(gray, threshold):\n",
    "    mask = gray > threshold\n",
    "    return mask"
   ]
  },
  {
   "cell_type": "code",
   "execution_count": 3,
   "metadata": {},
   "outputs": [],
   "source": [
    "def dilated_image(image, rep):\n",
    "  dilated = dilation(image)\n",
    "  for i in range(rep-1):\n",
    "    dilated=dilation(dilated)\n",
    "  return dilated"
   ]
  },
  {
   "cell_type": "code",
   "execution_count": 4,
   "metadata": {},
   "outputs": [],
   "source": [
    "def NewdisplayCircles(image, coor, filename):\n",
    "    h = image.shape[0]\n",
    "    w = image.shape[1]\n",
    "    # Create a figure and axis\n",
    "    fig, ax = plt.subplots()\n",
    "    # Read in an image and display it on the axis\n",
    "    ax.imshow(image)\n",
    "    # Create a circle patch with the desired coordinates and radius\n",
    "    circleCoordinates = np.argwhere(coor)\n",
    "    circleCoordinates = np.mean(circleCoordinates, axis=0)\n",
    "    if len(circleCoordinates)==0:\n",
    "        circleCoordinates=[[1,h/2,w/2]]\n",
    "    r,y,x = circleCoordinates\n",
    "    circle = Circle((x,y), r, color='red', fill=False)\n",
    "    # Add the circle patch to the axis\n",
    "    ax.add_patch(circle)\n",
    "    # Save the figure\n",
    "    plt.savefig(filename)\n",
    "    # close the figure\n",
    "    plt.close(fig)\n",
    "    # read the saved file and return the image\n",
    "    return plt.imread(filename)"
   ]
  },
  {
   "cell_type": "code",
   "execution_count": 5,
   "metadata": {},
   "outputs": [],
   "source": [
    "def output_coor_circles(image, coor):\n",
    "    circleCoordinates = np.argwhere(coor)\n",
    "    circleCoordinates = np.mean(circleCoordinates, axis=0)\n",
    "    return circleCoordinates "
   ]
  },
  {
   "cell_type": "code",
   "execution_count": 6,
   "metadata": {},
   "outputs": [],
   "source": [
    "def displayBlob(image, blob, filename):\n",
    "    h = image.shape[0]\n",
    "    w = image.shape[1]\n",
    "    # Create a figure and axis\n",
    "    fig, ax = plt.subplots()\n",
    "    # Read in an image and display it on the axis\n",
    "    ax.imshow(image)\n",
    "    if len(blob)==0:\n",
    "        blob=[[h/2,w/2,30]]\n",
    "    blob = np.mean(blob, axis=0)\n",
    "    y, x, r = blob\n",
    "    c = plt.Circle((x, y), r, color='red', linewidth=2, fill=False)\n",
    "    ax.add_patch(c)\n",
    "    # Save the figure\n",
    "    plt.savefig(filename)\n",
    "    # close the figure\n",
    "    plt.close(fig)\n",
    "    # read the saved file and return the image\n",
    "    return plt.imread(filename)"
   ]
  },
  {
   "cell_type": "code",
   "execution_count": 7,
   "metadata": {},
   "outputs": [],
   "source": [
    "def output_coor_blob(image, blob):\n",
    "    h = image.shape[0]\n",
    "    w = image.shape[1]\n",
    "    if len(blob)==0:\n",
    "        blob=[[h/2,w/2,30]]\n",
    "    blob = np.mean(blob, axis=0)\n",
    "    y, x, r = blob\n",
    "    return blob"
   ]
  },
  {
   "cell_type": "code",
   "execution_count": 8,
   "metadata": {},
   "outputs": [],
   "source": [
    "path = '1_000/'\n",
    "files = os.listdir(path)\n",
    "num_files = len(files)"
   ]
  },
  {
   "cell_type": "code",
   "execution_count": 9,
   "metadata": {},
   "outputs": [
    {
     "name": "stdout",
     "output_type": "stream",
     "text": [
      "212\n",
      "212\n"
     ]
    }
   ],
   "source": [
    "image = []\n",
    "gray = []\n",
    "list_of_names = []\n",
    "for i in files:\n",
    "    list_of_names.append(i)\n",
    "list_of_names.sort()\n",
    "for i in range(len(list_of_names)):\n",
    "    image.append(imread(path+list_of_names[i]))\n",
    "    gray.append(rgb2gray(image[i]))\n",
    "print(len(image))\n",
    "print(len(gray))"
   ]
  },
  {
   "cell_type": "code",
   "execution_count": 10,
   "metadata": {},
   "outputs": [
    {
     "name": "stderr",
     "output_type": "stream",
     "text": [
      "100%|██████████| 212/212 [00:49<00:00,  4.29it/s]\n"
     ]
    }
   ],
   "source": [
    "mask = []\n",
    "mask_blob = []\n",
    "disp_mask_blob = []\n",
    "coor_blob = []\n",
    "for i in tqdm(range(len(gray))):\n",
    "    mask.append(mask_image(gray[i],0.2))\n",
    "    mask_blob.append(blob_doh(mask[i], max_sigma=75, min_sigma=36, threshold=.05))\n",
    "    # disp_mask_blob.append(displayBlob(image[i], mask_blob[i], \"blob_estimation/gray_blob_{}.png\".format(i)))\n",
    "    coor_blob.append(output_coor_blob(image[i], mask_blob[i]))"
   ]
  },
  {
   "cell_type": "code",
   "execution_count": 11,
   "metadata": {},
   "outputs": [
    {
     "name": "stdout",
     "output_type": "stream",
     "text": [
      "       y      x\n",
      "0  305.0  330.0\n",
      "1  304.0  330.0\n",
      "2  304.0  329.0\n",
      "3  303.0  328.0\n",
      "4  300.0  326.0\n",
      "(212, 2)\n"
     ]
    }
   ],
   "source": [
    "column_names=['y','x','r']\n",
    "df_coor_blob = pd.DataFrame(coor_blob, columns=column_names) #, columns = column_names)\n",
    "df_coor_blob = df_coor_blob[['y','x']]\n",
    "print(df_coor_blob.head())\n",
    "print(df_coor_blob.shape)\n",
    "df_coor_blob.to_csv('out.csv', index=False)"
   ]
  },
  {
   "cell_type": "code",
   "execution_count": 12,
   "metadata": {},
   "outputs": [
    {
     "name": "stderr",
     "output_type": "stream",
     "text": [
      "100%|██████████| 212/212 [01:51<00:00,  1.90it/s]\n"
     ]
    }
   ],
   "source": [
    "mask = []\n",
    "dilated_mask = []\n",
    "dilated_mask_edge = []\n",
    "coor_edge_dilated_mask = []\n",
    "disp_edge_dilated_mask = []\n",
    "coor_circles = []\n",
    "\n",
    "for i in tqdm(range(len(gray))):\n",
    "    mask.append(mask_image(gray[i],0.2))\n",
    "    dilated_mask.append(dilated_image(mask[i], 5))\n",
    "    dilated_mask_edge.append(canny(dilated_mask[i], sigma=3, low_threshold=0.2, high_threshold=0.4).astype(np.uint8))\n",
    "    coor_edge_dilated_mask.append(hough_circle(dilated_mask_edge[i], np.arange(15, 80)))\n",
    "    # disp_edge_dilated_mask.append(NewdisplayCircles(image[i], coor_edge_dilated_mask[i], \"circle_estimation/edge_dilated_mask_circle_{}.png\".format(i)))\n",
    "    coor_circles.append(output_coor_circles(image[i], coor_edge_dilated_mask[i]))\n",
    "    \n"
   ]
  },
  {
   "cell_type": "code",
   "execution_count": 13,
   "metadata": {},
   "outputs": [
    {
     "name": "stdout",
     "output_type": "stream",
     "text": [
      "            y           x\n",
      "0  306.209369  331.870189\n",
      "1  305.121479  332.018635\n",
      "2  304.391464  331.029159\n",
      "3  302.762644  329.370724\n",
      "4  300.403364  327.562659\n",
      "(212, 2)\n"
     ]
    }
   ],
   "source": [
    "column_names = ['r','y','x']\n",
    "df_coor_circles = pd.DataFrame(coor_circles, columns=column_names) #, columns = column_names)\n",
    "df_coor_circles = df_coor_circles[['y','x']]\n",
    "print(df_coor_circles.head())\n",
    "print(df_coor_circles.shape)"
   ]
  },
  {
   "cell_type": "code",
   "execution_count": 14,
   "metadata": {},
   "outputs": [
    {
     "name": "stdout",
     "output_type": "stream",
     "text": [
      "(212, 2)\n",
      "            y           x\n",
      "0  305.604684  330.935095\n",
      "1  304.560740  331.009318\n",
      "2  304.195732  330.014579\n",
      "3  302.881322  328.685362\n",
      "4  300.201682  326.781330\n"
     ]
    }
   ],
   "source": [
    "columns_to_mean = ['y','x']\n",
    "df_coor_mean = (df_coor_circles[columns_to_mean].add(df_coor_blob[columns_to_mean]))/2\n",
    "print(df_coor_mean.shape)\n",
    "print(df_coor_mean.head())\n"
   ]
  },
  {
   "attachments": {},
   "cell_type": "markdown",
   "metadata": {},
   "source": [
    "ground truth values are taken from the path below"
   ]
  },
  {
   "cell_type": "code",
   "execution_count": 15,
   "metadata": {},
   "outputs": [
    {
     "name": "stdout",
     "output_type": "stream",
     "text": [
      "1170\n"
     ]
    }
   ],
   "source": [
    "from pathlib import Path\n",
    "path = Path('SynthEyes_data/f01')\n",
    "p = path.glob('**/*.pkl')\n",
    "files = [x for x in p if x.is_file()]\n",
    "num_files = len(files)\n",
    "print(num_files)"
   ]
  },
  {
   "cell_type": "code",
   "execution_count": 16,
   "metadata": {},
   "outputs": [],
   "source": [
    "mean_x = []\n",
    "mean_y = []\n",
    "look_vec_x = []\n",
    "look_vec_y = []\n",
    "look_vec_z = []\n",
    "\n",
    "\n",
    "for i in range(num_files):\n",
    "    unpickled_df = pd.read_pickle(files[i])  \n",
    "    x_coordinates = [tup[0] for tup in unpickled_df['ldmks']['ldmks_pupil_2d']]\n",
    "    y_coordinates = [tup[1] for tup in unpickled_df['ldmks']['ldmks_pupil_2d']]\n",
    "    mean_x.append(sum(x_coordinates) / len(x_coordinates))\n",
    "    mean_y.append(sum(y_coordinates) / len(y_coordinates))\n",
    "    look_vec_x.append(unpickled_df['look_vec'][0])\n",
    "    look_vec_y.append(unpickled_df['look_vec'][1])\n",
    "    look_vec_z.append(unpickled_df['look_vec'][2])\n"
   ]
  },
  {
   "cell_type": "code",
   "execution_count": 62,
   "metadata": {},
   "outputs": [
    {
     "name": "stdout",
     "output_type": "stream",
     "text": [
      "(1170, 2)\n",
      "      true_y     true_x\n",
      "0  29.846734  54.254781\n",
      "1  40.888493  44.143124\n",
      "2  36.442341  43.416190\n",
      "3  36.570298  66.831332\n",
      "4  41.371833  73.670738\n",
      "(1170, 2)\n",
      "      vec_x     vec_z\n",
      "0 -0.413728 -0.836536\n",
      "1 -0.369369 -0.838381\n",
      "2 -0.732105 -0.662866\n",
      "3  0.411623 -0.827235\n",
      "4  0.380012 -0.902808\n"
     ]
    }
   ],
   "source": [
    "true_df = pd.DataFrame({'true_y': mean_y,'true_x': mean_x})\n",
    "print(true_df.shape)\n",
    "print(true_df.head())\n",
    "\n",
    "# look_vec_df = pd.DataFrame({'vec_x': look_vec_x,'vec_y': look_vec_y,'vec_z':look_vec_z})\n",
    "# print(look_vec_df.shape)\n",
    "# print(look_vec_df.head())\n",
    "\n",
    "# the y vector is depth and is not relevant in VR\n",
    "look_vec_df = pd.DataFrame({'vec_x': look_vec_x,'vec_z':look_vec_z})\n",
    "print(look_vec_df.shape)\n",
    "print(look_vec_df.head())"
   ]
  },
  {
   "cell_type": "code",
   "execution_count": 63,
   "metadata": {},
   "outputs": [
    {
     "name": "stdout",
     "output_type": "stream",
     "text": [
      "5.333333333333333 6.0\n"
     ]
    }
   ],
   "source": [
    "utitlity_img_shape = [120, 80]\n",
    "basic_dataset_img_shape = [640, 480]\n",
    "ratio_x = basic_dataset_img_shape[0]/utitlity_img_shape[0]\n",
    "ratio_y = basic_dataset_img_shape[1]/utitlity_img_shape[1]\n",
    "print(ratio_x, ratio_y)"
   ]
  },
  {
   "cell_type": "code",
   "execution_count": 64,
   "metadata": {},
   "outputs": [],
   "source": [
    "df_coor_circles['x'] = df_coor_circles['x']/ratio_x\n",
    "df_coor_circles['y'] = df_coor_circles['y']/ratio_y\n",
    "\n",
    "df_coor_blob['x'] = df_coor_blob['x']/ratio_x\n",
    "df_coor_blob['y'] = df_coor_blob['y']/ratio_y\n",
    "\n",
    "df_coor_mean['x'] = df_coor_mean['x']/ratio_x\n",
    "df_coor_mean['y'] = df_coor_mean['y']/ratio_y"
   ]
  },
  {
   "attachments": {},
   "cell_type": "markdown",
   "metadata": {},
   "source": [
    "below is the machine learning part"
   ]
  },
  {
   "cell_type": "code",
   "execution_count": 65,
   "metadata": {},
   "outputs": [],
   "source": [
    "from sklearn.multioutput import MultiOutputRegressor\n",
    "from sklearn.ensemble import RandomForestRegressor\n",
    "from sklearn.linear_model import LinearRegression\n",
    "from sklearn.linear_model import Ridge\n",
    "from sklearn.linear_model import Lasso\n",
    "from sklearn.tree import DecisionTreeRegressor\n",
    "from sklearn.svm import SVR\n",
    "from sklearn.neural_network import MLPRegressor\n",
    "\n",
    "# define the regressor\n",
    "regressor = [RandomForestRegressor(),LinearRegression(),Ridge(),Lasso(),DecisionTreeRegressor(),SVR(),MLPRegressor()]\n",
    "\n",
    "def machine_learn(X_test,regressor, X_train=true_df, y_train=look_vec_df):\n",
    "    # define the multi-output regressor\n",
    "    multi_output = MultiOutputRegressor(regressor)\n",
    "    # fit the model\n",
    "    multi_output.fit(X_train, y_train)\n",
    "    # predict\n",
    "    y_pred = multi_output.predict(X_test)\n",
    "    score = multi_output.score(X_test, y_pred)\n",
    "    return score, y_pred"
   ]
  },
  {
   "cell_type": "code",
   "execution_count": 66,
   "metadata": {},
   "outputs": [
    {
     "name": "stdout",
     "output_type": "stream",
     "text": [
      "(936, 2)\n",
      "(936, 2)\n",
      "(234, 2)\n",
      "(234, 2)\n"
     ]
    }
   ],
   "source": [
    "from sklearn.model_selection import train_test_split\n",
    "X_train, X_test, y_train, y_test = train_test_split(true_df, look_vec_df, test_size=0.2, random_state=42)\n",
    "print(X_train.shape)\n",
    "print(y_train.shape)\n",
    "print(X_test.shape)\n",
    "print(y_test.shape)"
   ]
  },
  {
   "cell_type": "code",
   "execution_count": 67,
   "metadata": {},
   "outputs": [],
   "source": [
    "score = []\n",
    "predictions = []\n",
    "for i in range(len(regressor)):\n",
    "    score.append(machine_learn(X_test,regressor[i], X_train, y_train)[0])\n",
    "    predictions.append(machine_learn(X_test,regressor[i], X_train, y_train)[1])"
   ]
  },
  {
   "cell_type": "code",
   "execution_count": 68,
   "metadata": {},
   "outputs": [
    {
     "name": "stdout",
     "output_type": "stream",
     "text": [
      "(234, 2)\n"
     ]
    }
   ],
   "source": [
    "print(predictions[0].shape)"
   ]
  },
  {
   "cell_type": "code",
   "execution_count": 69,
   "metadata": {},
   "outputs": [],
   "source": [
    "from sklearn.metrics import mean_absolute_error\n",
    "from sklearn.metrics import mean_squared_error\n",
    "from math import sqrt\n",
    "from sklearn.metrics import r2_score\n",
    "from sklearn.metrics import explained_variance_score\n",
    "\n",
    "def metric(y_true, y_pred):\n",
    "    mae = mean_absolute_error(y_true, y_pred)\n",
    "    mse = mean_squared_error(y_true, y_pred)\n",
    "    rmse = sqrt(mse)\n",
    "    r2 = r2_score(y_true, y_pred)\n",
    "    evs = explained_variance_score(y_true, y_pred)\n",
    "    metrics=[mae,mse,rmse,r2,evs]\n",
    "    return metrics"
   ]
  },
  {
   "attachments": {},
   "cell_type": "markdown",
   "metadata": {},
   "source": [
    "on each row: the regressor tested, on each columns a different metric"
   ]
  },
  {
   "cell_type": "code",
   "execution_count": 70,
   "metadata": {},
   "outputs": [
    {
     "name": "stdout",
     "output_type": "stream",
     "text": [
      "[0.052329965841705794, 0.012260364670067954, 0.11072653101252632, 0.8057813677909568, 0.806469527588797]\n",
      "[0.1462587633603373, 0.03214785486595984, 0.17929822884222768, 0.34979808222123826, 0.35203257370521784]\n",
      "[0.14625874258100985, 0.032147884915698755, 0.17929831264041152, 0.34979786735200097, 0.35203234422566465]\n",
      "[0.1570671464856139, 0.03904484914387264, 0.1975976951886652, 0.2995583161381218, 0.30164021874273317]\n",
      "[0.06275713835140435, 0.021592072741541492, 0.14694241301115718, 0.658777816702247, 0.6590482679816264]\n",
      "[0.14053260067770634, 0.03064536463045801, 0.17505817498893905, 0.4461688697623289, 0.44745958130603275]\n",
      "[0.1843753534862394, 0.056502163879418615, 0.2377018381910805, -0.028905925981447755, -0.012280156858281766]\n"
     ]
    }
   ],
   "source": [
    "for i in range(len(regressor)):\n",
    "    print(metric(y_test, predictions[i]))"
   ]
  },
  {
   "cell_type": "code",
   "execution_count": null,
   "metadata": {},
   "outputs": [],
   "source": []
  }
 ],
 "metadata": {
  "kernelspec": {
   "display_name": "Python 3",
   "language": "python",
   "name": "python3"
  },
  "language_info": {
   "codemirror_mode": {
    "name": "ipython",
    "version": 3
   },
   "file_extension": ".py",
   "mimetype": "text/x-python",
   "name": "python",
   "nbconvert_exporter": "python",
   "pygments_lexer": "ipython3",
   "version": "3.8.5 (v3.8.5:580fbb018f, Jul 20 2020, 12:11:27) \n[Clang 6.0 (clang-600.0.57)]"
  },
  "orig_nbformat": 4,
  "vscode": {
   "interpreter": {
    "hash": "aee8b7b246df8f9039afb4144a1f6fd8d2ca17a180786b69acc140d282b71a49"
   }
  }
 },
 "nbformat": 4,
 "nbformat_minor": 2
}
